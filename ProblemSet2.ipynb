{
 "cells": [
  {
   "cell_type": "markdown",
   "id": "5b1fa4c3",
   "metadata": {},
   "source": [
    "## Question 1"
   ]
  },
  {
   "cell_type": "raw",
   "id": "074e96c6",
   "metadata": {},
   "source": [
    "# Consider the following Python module:\n",
    "a = 0\n",
    "def b():\n",
    " global a\n",
    " a = c(a)\n",
    "def c(a):\n",
    " return a + 2\n",
    "After importing the module into the interpreter, you execute:\n",
    ">>> b()\n",
    ">>> b()\n",
    ">>> b()\n",
    ">>> a\n",
    "?\n",
    "What value is displayed when the last expression (a) is evaluated? Explain your \n",
    "answer by indicating what happens in every executed statement"
   ]
  },
  {
   "cell_type": "code",
   "execution_count": 53,
   "id": "d2cb8b86",
   "metadata": {},
   "outputs": [
    {
     "data": {
      "text/plain": [
       "6"
      ]
     },
     "execution_count": 53,
     "metadata": {},
     "output_type": "execute_result"
    }
   ],
   "source": [
    "a = 0 \n",
    "def b():\n",
    "  global a\n",
    "  a = c(a)\n",
    "    \n",
    "def c(a):\n",
    " return a + 2\n",
    "b()\n",
    "b()\n",
    "b()\n",
    "a"
   ]
  },
  {
   "cell_type": "markdown",
   "id": "c5652ac0",
   "metadata": {},
   "source": [
    "## Question 2"
   ]
  },
  {
   "cell_type": "markdown",
   "id": "b0c00c9e",
   "metadata": {},
   "source": [
    "\n",
    "Function fileLength(), given to you, takes the name of a file as input and returns \n",
    "the length of the file:\n",
    ">>> fileLength('midterm.py')\n",
    "284\n",
    ">>> fileLength('idterm.py')\n",
    "Traceback (most recent call last):\n",
    "File \"<pyshell#34>\", line 1, in <module>\n",
    " fileLength('idterm.py')\n",
    "File \"/Users/me/midterm.py\", line 3, in fileLength\n",
    " infile = open(filename)\n",
    "FileNotFoundError: [Errno 2] No such file or directory: \n",
    "'idterm.py'\n",
    "As shown above, if the file cannot be found by the interpreter or if it cannot be read \n",
    "as a text file, an exception will be raised. Modify function fileLength() so that a \n",
    "friendly message is printed instead:\n",
    ">>> fileLength('midterm.py')\n",
    "358\n",
    ">>> fileLength('idterm.py')\n",
    "File idterm.py not found."
   ]
  },
  {
   "cell_type": "code",
   "execution_count": 3,
   "id": "d633089f",
   "metadata": {},
   "outputs": [
    {
     "name": "stdout",
     "output_type": "stream",
     "text": [
      "File 'midterm.py' not found.\n",
      "None\n"
     ]
    }
   ],
   "source": [
    "def fileLength(filename):\n",
    "    try:\n",
    "        in_file = open(filename,'r')\n",
    "        content = in_file.read()\n",
    "        in_file.close()\n",
    "        return len(content)\n",
    "    except FileNotFoundError:\n",
    "        print(f\"File '{filename}' not found.\")\n",
    "result= fileLength('midterm.py')\n",
    "print(result)\n",
    "\n",
    "        "
   ]
  },
  {
   "cell_type": "markdown",
   "id": "bea56b64",
   "metadata": {},
   "source": [
    "### Question 3\n",
    "Write a class named Marsupial that can be used as shown below:\n",
    ">>> m = Marsupial()\n",
    ">>> m.put_in_pouch('doll')\n",
    ">>> m.put_in_pouch('firetruck')\n",
    ">>> m.put_in_pouch('kitten')\n",
    ">>> m.pouch_contents()\n",
    "['doll', 'firetruck', 'kitten']"
   ]
  },
  {
   "cell_type": "code",
   "execution_count": 16,
   "id": "bd824813",
   "metadata": {},
   "outputs": [
    {
     "name": "stdout",
     "output_type": "stream",
     "text": [
      "['doll', 'firetruck', 'kitten']\n",
      "I am a Kangaroo located at coordinates (0,0)\n",
      "['doll', 'firetruck', 'kitten']\n",
      "I am a Kangaroo located at coordinates (3,0)\n"
     ]
    }
   ],
   "source": [
    "m = Marsupial()\n",
    "m.put_in_pouch('doll')\n",
    "m.put_in_pouch('firetruck')\n",
    "m.put_in_pouch('kitten')\n",
    "print(m.pouch_contents())  # Output: ['doll', 'firetruck', 'kitten']\n",
    "\n",
    "k = Kangaroo(0, 0)\n",
    "print(k)  # Output: I am a Kangaroo located at coordinates (0,0)\n",
    "k.put_in_pouch('doll')\n",
    "k.put_in_pouch('firetruck')\n",
    "k.put_in_pouch('kitten')\n",
    "print(k.pouch_contents())  # Output: ['doll', 'firetruck', 'kitten']\n",
    "k.jump(1, 0)\n",
    "k.jump(1, 0)\n",
    "k.jump(1, 0)\n",
    "print(k)  # Output: I am a Kangaroo located at coordinates (3,0)\n"
   ]
  },
  {
   "cell_type": "markdown",
   "id": "c90064cb",
   "metadata": {},
   "source": [
    "## Question 4\n",
    "Write function collatz() that takes a positive integer x as input and prints the \n",
    "Collatz sequence starting at x. A Collatz sequence is obtained by repeatedly applying \n",
    "this rule to the previous number x in the sequence:\n",
    "x = {\n",
    "𝑥/2 𝑖𝑓 𝑥 𝑖𝑠 𝑒𝑣𝑒𝑛\n",
    "3𝑥 + 1 𝑖𝑓 𝑥 𝑖𝑠 𝑜𝑑𝑑\n",
    "Your function should stop when the sequence gets to number 1. Your \n",
    "implementation must be recursive, without any loops"
   ]
  },
  {
   "cell_type": "code",
   "execution_count": 20,
   "id": "9572c322",
   "metadata": {},
   "outputs": [
    {
     "name": "stdout",
     "output_type": "stream",
     "text": [
      "10\n",
      "5\n",
      "16\n",
      "8\n",
      "4\n",
      "2\n",
      "1\n",
      "1\n"
     ]
    }
   ],
   "source": [
    "def collatz(x):\n",
    "    print(x)\n",
    "    if x == 1:\n",
    "        return\n",
    "    elif x % 2 == 0:\n",
    "        collatz(x // 2)\n",
    "    else:\n",
    "        collatz(3 * x + 1)\n",
    "        collatz(1)\n",
    "# Output: 1\n",
    "\n",
    "collatz(10)\n",
    "\n"
   ]
  },
  {
   "cell_type": "markdown",
   "id": "eb531524",
   "metadata": {},
   "source": [
    "## Question 5"
   ]
  },
  {
   "cell_type": "raw",
   "id": "6611baad",
   "metadata": {},
   "source": [
    "\n",
    "Write a recursive method binary() that takes a non-negative \n",
    "integer n and prints the binary representation of integer n.\n",
    ">>> binary(0)\n",
    "0\n",
    ">>> binary(1)\n",
    "1\n",
    ">>> binary(3)\n",
    "11\n",
    ">>> binary(9)\n",
    "1001\n"
   ]
  },
  {
   "cell_type": "code",
   "execution_count": 21,
   "id": "2a9adb8a",
   "metadata": {},
   "outputs": [
    {
     "name": "stdout",
     "output_type": "stream",
     "text": [
      "0\n",
      "1\n",
      "1\n",
      "1\n",
      "1\n",
      "0\n",
      "0\n",
      "1\n"
     ]
    }
   ],
   "source": [
    "def binary(n):\n",
    "    if n == 0:\n",
    "        return \"0\"\n",
    "    elif n == 1:\n",
    "        return \"1\"\n",
    "    else:\n",
    "        return binary(n // 2) + str(n % 2)\n",
    "def binary(n):\n",
    "    if n == 0:\n",
    "        print(\"0\")\n",
    "    elif n == 1:\n",
    "        print(\"1\")\n",
    "    else:\n",
    "        binary(n // 2)\n",
    "        print(n % 2)\n",
    "binary(0)\n",
    "# Output: 0\n",
    "\n",
    "binary(1)\n",
    "# Output: 1\n",
    "\n",
    "binary(3)\n",
    "# Output: 11\n",
    "\n",
    "binary(9)\n",
    "# Output: 1001\n"
   ]
  },
  {
   "cell_type": "markdown",
   "id": "7cfa53d0",
   "metadata": {},
   "source": [
    "## Question 8\n",
    "Write SQL queries on the below database table that return: \n",
    "a) All the temperature data.\n",
    "b) All the cities, but without repetition.\n",
    "c) All the records for India.\n",
    "d) All the Fall records.\n",
    " BDAT 1004 – Data Programming \n",
    "Page 6 of 7\n",
    "F2021\n",
    "BDAT 1004 Computer Studies\n",
    "e) The city, country, and season for which the average rainfall is between 200 \n",
    "and 400 millimeters.\n",
    "f) The city and country for which the average Fall temperature is above 20 \n",
    "degrees, in increasing temperature order.\n",
    "g) The total annual rainfall for Cairo.\n",
    "h) The total rainfall for each season.\n"
   ]
  },
  {
   "cell_type": "code",
   "execution_count": null,
   "id": "9eac6d92",
   "metadata": {},
   "outputs": [],
   "source": [
    "import sqlite3\n",
    "\n",
    "# connect to database\n",
    "conn = sqlite3.connect('weather.db')\n",
    "\n",
    "# create cursor object\n",
    "c = conn.cursor()\n",
    "\n",
    "# create table \n",
    "c.execute('''CREATE TABLE climate\n",
    "            (\n",
    "                City TEXT,\n",
    "                Country TEXT,\n",
    "                Season TEXT,\n",
    "                Temperature REAL,\n",
    "                Rainfall REAL\n",
    "             )''')\n",
    "\n",
    "# insert data into table \n",
    "weather_data = [('Mumbai', 'India', 'Winter', 24.8, 5.9),\n",
    "                ('Mumbai', 'India', 'Spring', 28.4, 16.2),\n",
    "                ('Mumbai', 'India', 'Summer', 27.9, 1549.4),\n",
    "                ('Mumbai', 'India', 'Fall', 27.6, 346.0),\n",
    "                ('London', 'United Kingdom', 'Winter', 4.2, 207.7),\n",
    "                ('London', 'United Kingdom', 'Spring', 8.3, 169.6),\n",
    "                ('London', 'United Kingdom', 'Summer', 15.7, 157.0),\n",
    "                ('London', 'United Kingdom', 'Fall', 10.4, 218.5),\n",
    "                ('Cairo', 'Egypt', 'Winter', 13.6, 16.5),\n",
    "                ('Cairo', 'Egypt', 'Spring', 20.7, 6.5),\n",
    "                ('Cairo', 'Egypt', 'Summer', 27.7, 0.1),\n",
    "                ('Cairo', 'Egypt', 'Fall', 22.2, 4.5)]\n",
    "c.executemany('INSERT INTO climate VALUES (?, ?, ?, ?, ?)', weather_data)\n",
    "\n",
    "# commit changes and close connection\n",
    "conn.commit()\n",
    "conn.close()"
   ]
  },
  {
   "cell_type": "code",
   "execution_count": null,
   "id": "06099339",
   "metadata": {},
   "outputs": [],
   "source": [
    "import sqlite3\n",
    "\n",
    "# connect to database\n",
    "conn = sqlite3.connect('weather.db')\n",
    "\n",
    "# create cursor object\n",
    "c = conn.cursor()"
   ]
  },
  {
   "cell_type": "markdown",
   "id": "0a0f0ae8",
   "metadata": {},
   "source": [
    "## a"
   ]
  },
  {
   "cell_type": "code",
   "execution_count": 45,
   "id": "72d55da0",
   "metadata": {},
   "outputs": [
    {
     "name": "stdout",
     "output_type": "stream",
     "text": [
      "[(24.8,), (28.4,), (27.9,), (27.6,), (4.2,), (8.3,), (15.7,), (10.4,), (13.6,), (20.7,), (27.7,), (22.2,)]\n"
     ]
    }
   ],
   "source": [
    "c.execute('SELECT Temperature FROM climate')\n",
    "temperature_data = c.fetchall()\n",
    "print(temperature_data)"
   ]
  },
  {
   "cell_type": "markdown",
   "id": "6cd0aad1",
   "metadata": {},
   "source": [
    "## b"
   ]
  },
  {
   "cell_type": "code",
   "execution_count": 46,
   "id": "17efb6d4",
   "metadata": {},
   "outputs": [
    {
     "name": "stdout",
     "output_type": "stream",
     "text": [
      "[('Mumbai',), ('London',), ('Cairo',)]\n"
     ]
    }
   ],
   "source": [
    "c.execute('SELECT DISTINCT City FROM climate')\n",
    "cities = c.fetchall()\n",
    "print(cities)"
   ]
  },
  {
   "cell_type": "markdown",
   "id": "a24c5131",
   "metadata": {},
   "source": [
    "## c"
   ]
  },
  {
   "cell_type": "code",
   "execution_count": 47,
   "id": "a16b3d84",
   "metadata": {},
   "outputs": [
    {
     "name": "stdout",
     "output_type": "stream",
     "text": [
      "[('Mumbai', 'India', 'Winter', 24.8, 5.9), ('Mumbai', 'India', 'Spring', 28.4, 16.2), ('Mumbai', 'India', 'Summer', 27.9, 1549.4), ('Mumbai', 'India', 'Fall', 27.6, 346.0)]\n"
     ]
    }
   ],
   "source": [
    "c.execute(\"SELECT * FROM climate WHERE Country = 'India'\")\n",
    "india_records = c.fetchall()\n",
    "print(india_records)"
   ]
  },
  {
   "cell_type": "markdown",
   "id": "67708435",
   "metadata": {},
   "source": [
    "## d"
   ]
  },
  {
   "cell_type": "code",
   "execution_count": 48,
   "id": "0f17083a",
   "metadata": {},
   "outputs": [
    {
     "name": "stdout",
     "output_type": "stream",
     "text": [
      "[('Mumbai', 'India', 'Fall', 27.6, 346.0), ('London', 'United Kingdom', 'Fall', 10.4, 218.5), ('Cairo', 'Egypt', 'Fall', 22.2, 4.5)]\n"
     ]
    }
   ],
   "source": [
    "c.execute(\"SELECT * FROM climate WHERE Season = 'Fall'\")\n",
    "fall_records = c.fetchall()\n",
    "print(fall_records)"
   ]
  },
  {
   "cell_type": "markdown",
   "id": "235164e1",
   "metadata": {},
   "source": [
    "## e"
   ]
  },
  {
   "cell_type": "code",
   "execution_count": 49,
   "id": "6d01bc14",
   "metadata": {},
   "outputs": [
    {
     "name": "stdout",
     "output_type": "stream",
     "text": [
      "[('London', 'United Kingdom', 'Fall'), ('London', 'United Kingdom', 'Winter'), ('Mumbai', 'India', 'Fall')]\n"
     ]
    }
   ],
   "source": [
    "c.execute(\"SELECT City, Country, Season FROM climate WHERE Rainfall BETWEEN 200 AND 400 GROUP BY City, Country, Season\")\n",
    "rainfall_records = c.fetchall()\n",
    "print(rainfall_records)"
   ]
  },
  {
   "cell_type": "markdown",
   "id": "7d67cc0f",
   "metadata": {},
   "source": [
    "## f"
   ]
  },
  {
   "cell_type": "code",
   "execution_count": 50,
   "id": "f1c4bbf9",
   "metadata": {},
   "outputs": [
    {
     "name": "stdout",
     "output_type": "stream",
     "text": [
      "[('Cairo', 'Egypt'), ('Mumbai', 'India')]\n"
     ]
    }
   ],
   "source": [
    "c.execute(\"SELECT City, Country FROM climate WHERE Season = 'Fall' GROUP BY City, Country HAVING AVG(Temperature) > 20 ORDER BY AVG(Temperature) ASC\")\n",
    "fall_temp_records = c.fetchall()\n",
    "print(fall_temp_records)"
   ]
  },
  {
   "cell_type": "markdown",
   "id": "a141ecec",
   "metadata": {},
   "source": [
    "## g"
   ]
  },
  {
   "cell_type": "code",
   "execution_count": 51,
   "id": "0c68e6e1",
   "metadata": {},
   "outputs": [
    {
     "name": "stdout",
     "output_type": "stream",
     "text": [
      "27.6\n"
     ]
    }
   ],
   "source": [
    "c.execute(\"SELECT SUM(Rainfall) AS Total_Rainfall FROM climate WHERE City = 'Cairo'\")\n",
    "cairo_rainfall = c.fetchone()[0]\n",
    "print(cairo_rainfall)"
   ]
  },
  {
   "cell_type": "markdown",
   "id": "23dcadd4",
   "metadata": {},
   "source": [
    "## h"
   ]
  },
  {
   "cell_type": "code",
   "execution_count": 52,
   "id": "7a039871",
   "metadata": {},
   "outputs": [
    {
     "name": "stdout",
     "output_type": "stream",
     "text": [
      "[('Fall', 569.0), ('Spring', 192.29999999999998), ('Summer', 1706.5), ('Winter', 230.1)]\n"
     ]
    }
   ],
   "source": [
    "c.execute(\"SELECT Season, SUM(Rainfall) AS Total_Rainfall FROM climate GROUP BY Season\")\n",
    "season_rainfall = c.fetchall()\n",
    "print(season_rainfall)"
   ]
  },
  {
   "cell_type": "markdown",
   "id": "b0edd102",
   "metadata": {},
   "source": [
    "## Question 9"
   ]
  },
  {
   "cell_type": "raw",
   "id": "b52a7589",
   "metadata": {},
   "source": [
    "\n",
    ". Suppose list words is defined as follows:\n",
    ">>> words = ['The', 'quick', 'brown', 'fox', 'jumps', 'over', \n",
    "'the', 'lazy', 'dog']\n",
    "Write list comprehension expressions that use list words and generate the following \n",
    "lists:\n",
    "a) ['THE', 'QUICK', 'BROWN', 'FOX', 'JUMPS', 'OVER', 'THE', \n",
    "'LAZY', 'DOG']\n",
    "b) ['the', 'quick', 'brown', 'fox', 'jumps', 'over', 'the', \n",
    "'lazy', 'dog']\n",
    "c) [3, 5, 5, 3, 5, 4, 3, 4, 3] (the list of lengths of words in list \n",
    "words).\n",
    "d) [['THE', 'the', 3], ['QUICK', 'quick', 5], ['BROWN', \n",
    "'brown', 5], ['FOX', 'fox', 3], ['JUMPS', 'jumps', 5], \n",
    "['OVER', 'over', 4], ['THE', 'the', 3], ['LAZY', 'lazy', \n",
    "4], ['DOG', 'dog', 3]] (the list containing a list for every word of list \n",
    "words, where each list contains the word in uppercase and lowercase and the \n",
    "length of the word.)\n",
    "e) ['The', 'quick', 'brown', 'fox', 'jumps', 'over', 'the', \n",
    "'lazy', 'dog'] (the list of words in list words containing 4 or more characters)"
   ]
  },
  {
   "cell_type": "code",
   "execution_count": null,
   "id": "a20d426b",
   "metadata": {},
   "outputs": [],
   "source": [
    "words = ['The', 'quick', 'brown', 'fox', 'jumps', 'over', \n",
    "'the', 'lazy', 'dog']"
   ]
  },
  {
   "cell_type": "markdown",
   "id": "5b65a5cf",
   "metadata": {},
   "source": [
    "# a"
   ]
  },
  {
   "cell_type": "code",
   "execution_count": 17,
   "id": "9b9f417c",
   "metadata": {},
   "outputs": [
    {
     "name": "stdout",
     "output_type": "stream",
     "text": [
      "['THE', 'QUICK', 'BROWN', 'FOX', 'JUMPS', 'OVER', 'THE', 'LAZY', 'DOG']\n"
     ]
    }
   ],
   "source": [
    "new_words = [word.upper() for word in words]\n",
    "print(new_words)"
   ]
  },
  {
   "cell_type": "markdown",
   "id": "aae7c19c",
   "metadata": {},
   "source": [
    "# b"
   ]
  },
  {
   "cell_type": "code",
   "execution_count": 26,
   "id": "b457a8c4",
   "metadata": {},
   "outputs": [
    {
     "name": "stdout",
     "output_type": "stream",
     "text": [
      "['the', 'quick', 'brown', 'fox', 'jumps', 'over', 'the', 'lazy', 'dog']\n"
     ]
    }
   ],
   "source": [
    "new_words = [word.lower() for word in words]\n",
    "print(new_words)"
   ]
  },
  {
   "cell_type": "markdown",
   "id": "71d2305e",
   "metadata": {},
   "source": [
    "# c"
   ]
  },
  {
   "cell_type": "code",
   "execution_count": 21,
   "id": "d28ae0d6",
   "metadata": {},
   "outputs": [
    {
     "name": "stdout",
     "output_type": "stream",
     "text": [
      "[3, 5, 5, 3, 5, 4, 3, 4, 3]\n"
     ]
    }
   ],
   "source": [
    "word_lengths = [len(word) for word in words]\n",
    "print(word_lengths)"
   ]
  },
  {
   "cell_type": "markdown",
   "id": "516d42b4",
   "metadata": {},
   "source": [
    "# d"
   ]
  },
  {
   "cell_type": "code",
   "execution_count": 22,
   "id": "356e11fb",
   "metadata": {},
   "outputs": [
    {
     "name": "stdout",
     "output_type": "stream",
     "text": [
      "[['THE', 'the', 3], ['QUICK', 'quick', 5], ['BROWN', 'brown', 5], ['FOX', 'fox', 3], ['JUMPS', 'jumps', 5], ['OVER', 'over', 4], ['THE', 'the', 3], ['LAZY', 'lazy', 4], ['DOG', 'dog', 3]]\n"
     ]
    }
   ],
   "source": [
    "new_words = [[word.upper(), word.lower(), len(word)] for word in words]\n",
    "print(new_words)"
   ]
  },
  {
   "cell_type": "markdown",
   "id": "198dc718",
   "metadata": {},
   "source": [
    "# e"
   ]
  },
  {
   "cell_type": "code",
   "execution_count": 23,
   "id": "e1f8d591",
   "metadata": {},
   "outputs": [
    {
     "name": "stdout",
     "output_type": "stream",
     "text": [
      "['quick', 'brown', 'jumps', 'over', 'lazy']\n"
     ]
    }
   ],
   "source": [
    "list_words = [word for word in words if len(word) >= 4]\n",
    "print(list_words)"
   ]
  }
 ],
 "metadata": {
  "kernelspec": {
   "display_name": "Python 3 (ipykernel)",
   "language": "python",
   "name": "python3"
  },
  "language_info": {
   "codemirror_mode": {
    "name": "ipython",
    "version": 3
   },
   "file_extension": ".py",
   "mimetype": "text/x-python",
   "name": "python",
   "nbconvert_exporter": "python",
   "pygments_lexer": "ipython3",
   "version": "3.10.9"
  }
 },
 "nbformat": 4,
 "nbformat_minor": 5
}
